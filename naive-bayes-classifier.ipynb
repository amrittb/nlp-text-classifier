{
 "cells": [
  {
   "cell_type": "markdown",
   "id": "ab6cd5f2-1e01-43ce-98d5-df142cfd24cd",
   "metadata": {},
   "source": [
    "# A naive-bayes sentiment classifier for movie reviews"
   ]
  },
  {
   "cell_type": "markdown",
   "id": "dc361401-29d8-4a81-9401-98f9c4ebdafa",
   "metadata": {},
   "source": [
    "## Steps\n",
    "1. Read training data from each file along with it's class.\n",
    "2. Tokenize the words.\n",
    "3. Lemitization\n",
    "4. Get word token count vectors\n",
    "5. Train\n",
    "6. Run test"
   ]
  },
  {
   "cell_type": "markdown",
   "id": "fdd3b287-b895-436d-84f6-f6d2b97e95ea",
   "metadata": {
    "tags": []
   },
   "source": [
    "## Formula for Naive Bayes Classifier\n",
    "\n",
    "$$c_{NB} = argmax_{c \\in C}(log{}P(c) + \\sum_{i\\in positions} log{}P(w_i|c))$$\n",
    "\n",
    "In this training data, the probability of both positive and negative class is $1/2$ as there are equal number of positive and negative training data sets.\n",
    "Hence,\n",
    "$$log{}P(c) = log{}(1/2)$$\n",
    "\n",
    "The second part of the equation can be re-written as below\n",
    "$$log{}\\frac{count(w,c) + 1}{\\sum_{w_1\\in V}(count(w_1,c) + 1)}$$"
   ]
  },
  {
   "cell_type": "code",
   "execution_count": null,
   "id": "5d0255e1-476c-4283-86c5-87c9b441faad",
   "metadata": {},
   "outputs": [],
   "source": [
    "##\n",
    "## Test: Preprocessing\n",
    "##\n",
    "\n",
    "import string\n",
    "from nltk.corpus import stopwords\n",
    "from nltk.stem import WordNetLemmatizer\n",
    "from nltk.tokenize import word_tokenize\n",
    "\n",
    "stop_words = set(stopwords.words('english'))\n",
    "punctuations = set(string.punctuation)\n",
    "\n",
    "punctuations.add(\"''\")\n",
    "punctuations.add('``')\n",
    "\n",
    "\n",
    "lemmataizer = WordNetLemmatizer()\n",
    "\n",
    "def preprocess_file_contents(lines):\n",
    "    # Combine everything to process all lines at once\n",
    "    file_content = \" \".join(lines)\n",
    "    \n",
    "    tokens = word_tokenize(file_content)\n",
    "    \n",
    "    processed_tokens = []\n",
    "    \n",
    "    for token in tokens:\n",
    "        lower_token = token.lower()\n",
    "        if lower_token in stop_words or token in punctuations:\n",
    "            continue\n",
    "        \n",
    "        processed_tokens.append(lemmataizer.lemmatize(token))\n",
    "    \n",
    "    return processed_tokens\n",
    "\n",
    "file = \"0_9.txt\"\n",
    "\n",
    "with open(\"data/aclImdb/train/pos/0_9.txt\", \"r\") as f:\n",
    "    tokens = preprocess_file_contents(f.readlines())\n",
    "    print(set(tokens))"
   ]
  },
  {
   "cell_type": "code",
   "execution_count": 1,
   "id": "6e15d8f6-6e6d-4372-b29d-10b603a84c70",
   "metadata": {},
   "outputs": [],
   "source": [
    "##\n",
    "## Helper method\n",
    "##\n",
    "\n",
    "import os\n",
    "\n",
    "def get_dataset_file_list(dir_path, filter_extension = None):\n",
    "    file_path_list = []\n",
    "    \n",
    "    for path in os.listdir(dir_path):\n",
    "        # check if current path is a file\n",
    "        absolute_path = os.path.join(dir_path, path)\n",
    "        # Make sure the path is a file and it is a .txt file (Ignore OS hidden stuff like .DS_Store\n",
    "        if os.path.isfile(absolute_path):\n",
    "            if filter_extension is not None:\n",
    "                if os.path.splitext(path)[-1] != filter_extension:\n",
    "                    continue\n",
    "            \n",
    "            file_path_list.append(absolute_path)\n",
    "    \n",
    "    return file_path_list"
   ]
  },
  {
   "cell_type": "code",
   "execution_count": 2,
   "id": "b5d15e0e-3e22-4113-ba8c-24486519759f",
   "metadata": {},
   "outputs": [],
   "source": [
    "##\n",
    "## Count word features in all the dataset\n",
    "##\n",
    "\n",
    "from sklearn.feature_extraction.text import CountVectorizer\n",
    "\n",
    "# Returns sparse_tree_matrix and the list of features (words)\n",
    "def build_feature_count_matrix(train_dataset):\n",
    "    # Extract all filepath from array of ( Absolute filepath, Class ) tupple\n",
    "    all_file_path_list = [ data[0] for data in train_dataset ]\n",
    "\n",
    "    # Fit transforms\n",
    "    count_vectorizer = CountVectorizer(input=\"filename\")\n",
    "    sparse_tree_matrix = count_vectorizer.fit_transform(all_file_path_list)\n",
    "    features = count_vectorizer.get_feature_names_out()\n",
    "        \n",
    "    return count_vectorizer, sparse_tree_matrix, features"
   ]
  },
  {
   "cell_type": "code",
   "execution_count": null,
   "id": "1b159aaf-1ef6-4731-86ca-493dab525c24",
   "metadata": {},
   "outputs": [],
   "source": [
    "##\n",
    "## Build data frame from sparsetree matrix and features\n",
    "##\n",
    "\n",
    "import numpy as np\n",
    "import pandas as pd\n",
    "\n",
    "def build_feature_data_frame(sparse_tree_matrix, features):\n",
    "    # Aggregate of feature count in all documents\n",
    "    feature_count_aggregate = sparse_tree_matrix.sum(axis=0)\n",
    "\n",
    "    # Put data in numpy array\n",
    "    data = np.append(sparse_tree_matrix.toarray(), feature_count_aggregate, axis=0)\n",
    "\n",
    "    # Last row of the df is the total count\n",
    "    return pd.DataFrame(data, columns = features)"
   ]
  },
  {
   "cell_type": "code",
   "execution_count": 3,
   "id": "b4aed61f-177d-4fb9-813c-4da63f548c89",
   "metadata": {},
   "outputs": [],
   "source": [
    "##\n",
    "## Calculate Log prior probability\n",
    "##\n",
    "\n",
    "import math\n",
    "from collections import Counter\n",
    "\n",
    "# Train Dataset => List of tupple of filepath and class\n",
    "def calculate_log_prior_probability(train_dataset):\n",
    "    log_prior = {}\n",
    "    train_dataset_class_count = Counter(file_class[1] for file_class in train_dataset)\n",
    "    train_dataset_total_count = len(train_dataset)\n",
    "\n",
    "    for k in train_dataset_class_count.elements():\n",
    "        log_prior[k] = math.log(train_dataset_class_count[k] / train_dataset_total_count)\n",
    "        \n",
    "    return log_prior"
   ]
  },
  {
   "cell_type": "code",
   "execution_count": 4,
   "id": "bc48eb53-2b10-4e4c-afa4-3105db7fd203",
   "metadata": {},
   "outputs": [],
   "source": [
    "##\n",
    "## Count features in each class\n",
    "##\n",
    "\n",
    "# {class_01 => { feature_id_01 => count, feature_id_02 => count }, class_02 => {..} }\n",
    "def count_features_in_class(train_dataset, sparse_tree_matrix):\n",
    "    count_map = {}\n",
    "\n",
    "    cmatrix = sparse_tree_matrix.tocoo()\n",
    "    for index, feature, count in zip(cmatrix.row, cmatrix.col, cmatrix.data):\n",
    "        class_enum = train_dataset[index][1]\n",
    "\n",
    "        if class_enum not in count_map:\n",
    "            count_map[class_enum] = {}\n",
    "\n",
    "        if feature not in count_map[class_enum]:\n",
    "            count_map[class_enum][feature] = 0\n",
    "\n",
    "        count_map[class_enum][feature] += count\n",
    "        \n",
    "    return count_map\n",
    "    \n",
    "# Print Map\n",
    "#print(class_feature_count_map)\n",
    "\n",
    "# Debugging common keys\n",
    "#common = class_feature_count_map[MovieReviewClass.POS].keys() & class_feature_count_map[MovieReviewClass.NEG].keys()\n",
    "#print(common)\n",
    "#count_vect.get_feature_names_out()[257]"
   ]
  },
  {
   "cell_type": "code",
   "execution_count": 5,
   "id": "4e5c9c3d-9289-43b0-96db-f00da44472b1",
   "metadata": {},
   "outputs": [],
   "source": [
    "##\n",
    "## Calculates log likelihood for P(feature|class)\n",
    "##\n",
    "\n",
    "# {class_01 => {feature_id_01 => loglikelihood }}\n",
    "def calculate_log_likelihood(class_feature_count, total_feature_count):\n",
    "    log_likelihood = {}\n",
    "\n",
    "    for clazz, feature_count in class_feature_count.items():\n",
    "        total_feature_count_in_class = sum([ count for feature, count in feature_count.items()]) + total_feature_count\n",
    "\n",
    "        if clazz not in log_likelihood:\n",
    "            log_likelihood[clazz] = {}\n",
    "\n",
    "        for feature, count in feature_count.items():\n",
    "            log_likelihood[clazz][feature] = math.log((count + 1) / total_feature_count_in_class)\n",
    "            \n",
    "    return log_likelihood"
   ]
  },
  {
   "cell_type": "code",
   "execution_count": 6,
   "id": "739c8e01-addf-437f-89f7-6d599da53169",
   "metadata": {},
   "outputs": [],
   "source": [
    "##\n",
    "## Train Naive Bayes from train_dataset and class_list\n",
    "##\n",
    "\n",
    "def train_naive_bayes(train_dataset):\n",
    "    log_prior = calculate_log_prior_probability(train_dataset)\n",
    "    \n",
    "    count_vectorizer, sparse_tree_matrix, features = build_feature_count_matrix(train_dataset)\n",
    "    class_feature_count = count_features_in_class(train_dataset, sparse_tree_matrix)\n",
    "\n",
    "    log_likelihood = calculate_log_likelihood(class_feature_count, len(features))\n",
    "    \n",
    "    return count_vectorizer, log_prior, log_likelihood"
   ]
  },
  {
   "cell_type": "code",
   "execution_count": 7,
   "id": "40671ed8-3af2-4c08-b035-bf9437954275",
   "metadata": {},
   "outputs": [
    {
     "name": "stdout",
     "output_type": "stream",
     "text": [
      "Found 25000 files in training dataset.\n",
      "Completed training Naive Bayes\n"
     ]
    }
   ],
   "source": [
    "##\n",
    "## Prepare constants for dataset\n",
    "##\n",
    "\n",
    "from enum import Enum\n",
    "\n",
    "class Class(Enum):\n",
    "    POS = 1\n",
    "    NEG = 2\n",
    "\n",
    "CLASS_LIST = [ Class.POS, Class.NEG ]\n",
    "\n",
    "DATASET_BASE_DIR = \"data/aclImdb/\"\n",
    "TRAIN_DATASET_BASE_DIR = DATASET_BASE_DIR + \"train/\"\n",
    "TEST_DATASET_BASE_DIR = DATASET_BASE_DIR + \"test/\"\n",
    "\n",
    "CLASS_DIR = { Class.POS : \"pos\", Class.NEG : \"neg\" }\n",
    "\n",
    "# Array of ( Absolute filepath, Class ) tupple\n",
    "train_dataset = []\n",
    "for c in CLASS_LIST:\n",
    "    dir_path = TRAIN_DATASET_BASE_DIR + CLASS_DIR[c]\n",
    "    train_dataset.extend([ (filepath, c) for filepath in get_dataset_file_list(dir_path, \".txt\") ])\n",
    "    \n",
    "print(\"Found {} files in training dataset.\".format(len(train_dataset)))\n",
    "\n",
    "print(\"Training Naive Bayes\")\n",
    "\n",
    "count_vectorizer, log_prior, log_likelihood = train_naive_bayes(train_dataset)\n",
    "\n",
    "print(\"Completed training Naive Bayes\")"
   ]
  },
  {
   "cell_type": "code",
   "execution_count": 8,
   "id": "a92b21bb-9d69-47e3-9a5d-9831f4f45de9",
   "metadata": {},
   "outputs": [],
   "source": [
    "def predict_class(test_tokens, log_prior, log_likelihood, class_list, feature_id_map):\n",
    "    class_probability = {}\n",
    "    \n",
    "    for clazz in class_list:\n",
    "        class_probability[clazz] = log_prior[clazz]\n",
    "        \n",
    "        for word in test_tokens:\n",
    "            if word in feature_id_map:\n",
    "                feature_id = feature_id_map[word]\n",
    "                feature_log_likelihood_for_class = log_likelihood[clazz][feature_id] if feature_id in log_likelihood[clazz] else 0\n",
    "                \n",
    "                class_probability[clazz] += feature_log_likelihood_for_class\n",
    "    \n",
    "    return max(class_probability, key=class_probability.get)"
   ]
  },
  {
   "cell_type": "code",
   "execution_count": 20,
   "id": "4c61406b-7b9f-4491-8571-32feecf84b44",
   "metadata": {},
   "outputs": [
    {
     "name": "stdout",
     "output_type": "stream",
     "text": [
      "Testing 25000 files\n"
     ]
    }
   ],
   "source": [
    "# Array of ( Absolute filepath, Class ) tupple\n",
    "test_dataset = []\n",
    "for c in CLASS_LIST:\n",
    "    dir_path = TEST_DATASET_BASE_DIR + CLASS_DIR[c]\n",
    "    test_dataset.extend([ (filepath, c) for filepath in get_dataset_file_list(dir_path, \".txt\") ])\n",
    "\n",
    "\n",
    "tokenizer = count_vectorizer.build_tokenizer()\n",
    "features = count_vectorizer.get_feature_names_out()\n",
    "feature_id_map = dict(zip(features, list(range(len(features)))))\n",
    "\n",
    "actual_classes = []\n",
    "predicted_classes = []\n",
    "\n",
    "print(\"Testing {} files\".format(len(test_dataset)))\n",
    "for test_filepath, actual_clazz in test_dataset:\n",
    "    with open(test_filepath, \"r\") as f:\n",
    "        test_tokens = tokenizer(f.read())\n",
    "\n",
    "        predicted_clazz = predict_class(test_tokens, log_prior, log_likelihood, CLASS_LIST, feature_id_map)\n",
    "\n",
    "        actual_classes.append(actual_clazz.value)\n",
    "        predicted_classes.append(predicted_clazz.value)"
   ]
  },
  {
   "cell_type": "code",
   "execution_count": 21,
   "id": "10772e43-a17f-490c-9056-674400b26f1a",
   "metadata": {},
   "outputs": [
    {
     "data": {
      "image/png": "[encoded data removed]",
      "text/plain": [
       "<Figure size 432x288 with 2 Axes>"
      ]
     },
     "metadata": {
      "needs_background": "light"
     },
     "output_type": "display_data"
    },
    {
     "name": "stdout",
     "output_type": "stream",
     "text": [
      "              precision    recall  f1-score   support\n",
      "\n",
      "         pos       0.78      0.64      0.70     12500\n",
      "         neg       0.70      0.81      0.75     12500\n",
      "\n",
      "    accuracy                           0.73     25000\n",
      "   macro avg       0.74      0.73      0.73     25000\n",
      "weighted avg       0.74      0.73      0.73     25000\n",
      "\n"
     ]
    }
   ],
   "source": [
    "import matplotlib.pyplot as plt\n",
    "from sklearn import metrics\n",
    "\n",
    "confusion_matrix = metrics.confusion_matrix(actual_classes, predicted_classes)\n",
    "\n",
    "cm_display = metrics.ConfusionMatrixDisplay(confusion_matrix = confusion_matrix, display_labels = [\"POS\", \"NEG\"])\n",
    "\n",
    "cm_display.plot()\n",
    "plt.show()\n",
    "\n",
    "def transform_list(l):\n",
    "    return [ \"pos\" if v == 1 else \"neg\" for v in l ]\n",
    "\n",
    "print(metrics.classification_report(transform_list(actual_classes), transform_list(predicted_classes), labels=[\"pos\", \"neg\"]))"
   ]
  }
 ],
 "metadata": {
  "kernelspec": {
   "display_name": "Python 3 (ipykernel)",
   "language": "python",
   "name": "python3"
  },
  "language_info": {
   "codemirror_mode": {
    "name": "ipython",
    "version": 3
   },
   "file_extension": ".py",
   "mimetype": "text/x-python",
   "name": "python",
   "nbconvert_exporter": "python",
   "pygments_lexer": "ipython3",
   "version": "3.9.12"
  }
 },
 "nbformat": 4,
 "nbformat_minor": 5
}
